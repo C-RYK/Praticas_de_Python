{
 "cells": [
  {
   "cell_type": "code",
   "execution_count": 72,
   "metadata": {},
   "outputs": [],
   "source": [
    "import pandas as pd"
   ]
  },
  {
   "cell_type": "code",
   "execution_count": null,
   "metadata": {},
   "outputs": [],
   "source": [
    "lista_df = pd.read_excel(\"Vendas.xlsx\")\n",
    "\n",
    "### teste = lista_df['ID Loja'] ### Um único valor passado como parametro é uma serie.\n",
    "\n",
    "teste = lista_df[['ID Loja', 'Produto']] ### Mais de um valor passado como parametro volta a ser uma tabela.\n",
    "\n",
    "display(teste)\n"
   ]
  },
  {
   "cell_type": "code",
   "execution_count": null,
   "metadata": {},
   "outputs": [],
   "source": [
    "# Pegar uma linha da tabela.\n",
    "\n",
    "### display(lista_df.loc[linha, coluna]) - Funcionamento do Loc\n",
    "\n",
    "display(lista_df.loc[1]) # Um único valor passado como parametro é uma serie.\n",
    "\n",
    "display(lista_df.loc[1:5]) ### Mais de um valor passado como parametro volta a ser uma tabela."
   ]
  },
  {
   "cell_type": "code",
   "execution_count": null,
   "metadata": {},
   "outputs": [],
   "source": [
    "# Pegar linhas que correspondem a uma condição.\n",
    "\n",
    "display(lista_df.loc[lista_df['ID Loja'] == 'Norte Shopping'])\n",
    "\n",
    "# Pegas varias linhas e Colunas usando o Loc.\n",
    "\n",
    "display(lista_df.loc[lista_df['ID Loja'] == 'Norte Shopping', ['ID Loja', 'Produto', 'Quantidade']])\n",
    "\n",
    "# Pegar um valor especifico\n",
    "\n",
    "display(lista_df.loc[1, 'Produto'])"
   ]
  },
  {
   "cell_type": "code",
   "execution_count": null,
   "metadata": {},
   "outputs": [],
   "source": [
    "# Como adicionar uma coluna apartir de uma coluna que já existe.\n",
    "\n",
    "lista_df[\"Comissão\"] = lista_df[\"Valor Final\"] * 0.05\n",
    "\n",
    "# Coluna com valor padrão.\n",
    "\n",
    "lista_df.loc[:, \"Imposto\"] = 0\n",
    "\n",
    "vendas_dez_df = pd.read_excel(\"Vendas - Dez.xlsx\")\n",
    "\n",
    "lista_df = lista_df.append(vendas_dez_df)"
   ]
  },
  {
   "cell_type": "code",
   "execution_count": null,
   "metadata": {},
   "outputs": [],
   "source": [
    "# Excluir colunas e linhas\n",
    "\n",
    "lista_df = lista_df.drop(\"Imposto\", axis=1) # Primeiro = Valor a ser procurado. Segundo = 0 Linha, 1 Coluna\n",
    "\n",
    "display(lista_df)\n",
    "\n",
    "# Deletar linhas e colunas completamente vazias.\n",
    "\n",
    "lista_df = lista_df.dropna(how='all', axis=1)\n",
    "\n",
    "# Deletar linhas que possuem pelo menos 1 valor vazio\n",
    "\n",
    "lista_df = lista_df.dropna()\n",
    "\n",
    "# Preencher valores vazios: Preencher com a média da coluna\n",
    "\n",
    "lista_df['Comissão'] = lista_df['Comissão'].fillna(lista_df['Comissão'].mean())\n",
    "\n",
    "# Preencher com o último valor\n",
    "\n",
    "lista_df = lista_df.ffill()"
   ]
  },
  {
   "cell_type": "code",
   "execution_count": null,
   "metadata": {},
   "outputs": [],
   "source": [
    "# Value Counts\n",
    "transacoes_loja = lista_df['ID Loja'].value_counts()\n",
    "display(transacoes_loja)\n",
    "\n",
    "# Group by\n",
    "faturamento_produto = lista_df[['Produto', 'Valor Final']].groupby('Produto').sum()\n",
    "display(faturamento_produto)"
   ]
  },
  {
   "cell_type": "code",
   "execution_count": null,
   "metadata": {},
   "outputs": [],
   "source": [
    "gerente_df = pd.read_excel('Gerentes.xlsx')\n",
    "\n",
    "# Mesclar duas planilhas do Excell diferente.\n",
    "\n",
    "lista_df = lista_df.merge(gerente_df)\n",
    "\n",
    "display(lista_df)\n"
   ]
  }
 ],
 "metadata": {
  "kernelspec": {
   "display_name": "Python 3 (ipykernel)",
   "language": "python",
   "name": "python3"
  },
  "orig_nbformat": 4
 },
 "nbformat": 4,
 "nbformat_minor": 2
}
