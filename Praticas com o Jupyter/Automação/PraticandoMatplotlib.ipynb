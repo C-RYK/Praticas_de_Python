{
 "cells": [
  {
   "cell_type": "code",
   "execution_count": 4,
   "metadata": {},
   "outputs": [],
   "source": [
    "import matplotlib.pyplot as plt"
   ]
  },
  {
   "cell_type": "code",
   "execution_count": null,
   "metadata": {},
   "outputs": [],
   "source": [
    "x = 1, 2, 3, 4, 5\n",
    "y = 2, 4, 6, 2, 0\n",
    "\n",
    "plt.plot(x, y, '--', lw= 3, color='#c2e0f6', label='Dados')\n",
    "plt.plot([5, 10, 15, 20, 25], [2.5, 5.5, 5.55, 10.25, 1.5], '-.', lw= 3, color='Red', label='Processamento')\n",
    "plt.title('Título do Gráfico')\n",
    "plt.ylabel('Eixo Y')\n",
    "plt.xlabel('Eixo X')\n",
    "plt.legend()\n",
    "plt.show()\n"
   ]
  },
  {
   "cell_type": "code",
   "execution_count": null,
   "metadata": {},
   "outputs": [],
   "source": [
    "x = 1, 2, 3, 4\n",
    "y = 2, 3, 4, 3\n",
    "\n",
    "plt.scatter(x, y, lw=3, c='k', label='Não sei')\n",
    "plt.xticks([1.5, 2.5, 3.5, 4.5, 5.5])\n",
    "plt.yticks([1.5, 2.5, 3.5, 4.5, 5.5])\n",
    "plt.legend()\n",
    "plt.show()"
   ]
  },
  {
   "cell_type": "code",
   "execution_count": null,
   "metadata": {},
   "outputs": [],
   "source": [
    "x = 1, 2, 3, 4, 5, 6, 7, 8, 9, 10\n",
    "y = 1, 2, 3, 4, 5, 6, 7, 8, 9, 10\n",
    "\n",
    "plt.bar(x, y, color='#800080', label=\"I don't now\")\n",
    "plt.legend()\n",
    "plt.show()\n"
   ]
  },
  {
   "cell_type": "code",
   "execution_count": null,
   "metadata": {},
   "outputs": [],
   "source": [
    "x = 1, 2, 3, 4\n",
    "y = 2, 3, 4, 3\n",
    "\n",
    "plt.scatter(x, y, lw=3, c='k', marker='v', label='Não sei')\n",
    "plt.scatter([2, 4, 6, 8], [4, 5, 6, 5], lw= 3, c='#c2e0f6', marker='^', label='PQP')\n",
    "plt.xticks([1.5, 2.5, 3.5, 4.5, 5.5, 6.5, 7.5, 8.5])\n",
    "plt.yticks([1.5, 2.5, 3.5, 4.5, 5.5, 6.5, 7.5, 8.5])\n",
    "plt.legend()\n",
    "plt.show()"
   ]
  },
  {
   "cell_type": "code",
   "execution_count": null,
   "metadata": {},
   "outputs": [],
   "source": [
    "plt.plot(x, y)\n",
    "plt.axis(xmin=-1, xmax=12, ymin=-1, ymax=12)\n",
    "#plt.axis('auto')\n",
    "#plt.axis('square')\n",
    "plt.show()\n"
   ]
  },
  {
   "cell_type": "code",
   "execution_count": null,
   "metadata": {},
   "outputs": [],
   "source": [
    "figura = plt.figure(figsize=(25,3))\n",
    "\n",
    "figura.add_subplot(141)\n",
    "figura.suptitle('I dont Now')\n",
    "\n",
    "plt.bar(x, y, label='Não sei')\n",
    "plt.legend()\n",
    "\n",
    "plt.show(figura)"
   ]
  },
  {
   "cell_type": "code",
   "execution_count": null,
   "metadata": {},
   "outputs": [],
   "source": [
    "figura = plt.figure(figsize=(30, 5))\n",
    "\n",
    "figura.add_subplot(131)\n",
    "plt.plot([1, 2, 3, 4, 5, 6, 7, 8, 9, 10], [1, 2, 3, 4, 5, 6, 7, 8, 9, 10], '-.', lw=3, c='#813535', label='Tutorial')\n",
    "figura.suptitle('Davy Jones')\n",
    "plt.title('Tutorial')\n",
    "plt.legend()\n",
    "\n",
    "figura.add_subplot(133)\n",
    "plt.bar([1, 2, 3, 4, 5], [1, 2, 3, 4, 5], lw=3, color='#90127B', label='Spray')\n",
    "plt.title('Spray')\n",
    "plt.legend()\n",
    "\n",
    "figura.add_subplot(132)\n",
    "plt.scatter(x, y, marker='^', lw=3, c='#375CA5', label='de')\n",
    "plt.title('de')\n",
    "plt.legend()\n",
    "\n",
    "plt.savefig('Graficos.png')\n",
    "\n",
    "plt.show(figura)"
   ]
  }
 ],
 "metadata": {
  "kernelspec": {
   "display_name": "Python 3 (ipykernel)",
   "language": "python",
   "name": "python3"
  },
  "language_info": {
   "codemirror_mode": {
    "name": "ipython",
    "version": 3
   },
   "file_extension": ".py",
   "mimetype": "text/x-python",
   "name": "python",
   "nbconvert_exporter": "python",
   "pygments_lexer": "ipython3",
   "version": "3.9.13"
  },
  "orig_nbformat": 4
 },
 "nbformat": 4,
 "nbformat_minor": 2
}
