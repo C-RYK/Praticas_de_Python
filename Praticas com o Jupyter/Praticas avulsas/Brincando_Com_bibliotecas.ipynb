{
 "cells": [
  {
   "cell_type": "code",
   "execution_count": 8,
   "metadata": {},
   "outputs": [],
   "source": [
    "import pandas as pd\n",
    "from random import randint as rd"
   ]
  },
  {
   "cell_type": "code",
   "execution_count": 38,
   "metadata": {},
   "outputs": [
    {
     "name": "stdout",
     "output_type": "stream",
     "text": [
      "ID Loja\n"
     ]
    }
   ],
   "source": [
    "op = [\"Código Venda\", \"Data\", \"ID Loja\", \"Produto\", \"Quantidade\", \"Valor Unitário\", \"Valor Final\"]"
   ]
  },
  {
   "cell_type": "code",
   "execution_count": null,
   "metadata": {},
   "outputs": [],
   "source": [
    "pl_df = pd.read_excel(\"Vendas.xlsx\")\n",
    "\n",
    "sort1 = rd(1, 93000)\n",
    "sort2 = rd(1, 93000)\n",
    "sort3 = op[rd(0, 6)]\n",
    "sort4 = op[rd(0, 6)]\n",
    "\n",
    "display(pl_df.loc[sort1:sort2, [sort3, sort4]])\n"
   ]
  }
 ],
 "metadata": {
  "kernelspec": {
   "display_name": "Python 3 (ipykernel)",
   "language": "python",
   "name": "python3"
  },
  "language_info": {
   "codemirror_mode": {
    "name": "ipython",
    "version": 3
   },
   "file_extension": ".py",
   "mimetype": "text/x-python",
   "name": "python",
   "nbconvert_exporter": "python",
   "pygments_lexer": "ipython3",
   "version": "3.9.13"
  },
  "orig_nbformat": 4
 },
 "nbformat": 4,
 "nbformat_minor": 2
}
