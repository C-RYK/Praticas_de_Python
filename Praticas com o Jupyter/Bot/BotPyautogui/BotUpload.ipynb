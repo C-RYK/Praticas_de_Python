{
 "cells": [
  {
   "cell_type": "code",
   "execution_count": 55,
   "metadata": {},
   "outputs": [],
   "source": [
    "from time import sleep\n",
    "import pyautogui as py"
   ]
  },
  {
   "cell_type": "code",
   "execution_count": 56,
   "metadata": {},
   "outputs": [],
   "source": [
    "py.PAUSE = 2\n",
    "\n",
    "py.press('win')\n",
    "\n",
    "py.write('Firefox')\n",
    "\n",
    "py.press('Enter')\n",
    "\n",
    "py.write('google')\n",
    "\n",
    "py.press('Enter')"
   ]
  },
  {
   "cell_type": "code",
   "execution_count": 57,
   "metadata": {},
   "outputs": [],
   "source": [
    "py.click(x=1825, y=142)\n",
    "\n",
    "py.click(x=1699, y=624)\n",
    "\n",
    "py.click(x=78, y=225) # Novo dentro do Drive\n",
    "\n",
    "py.click(x=196, y=291) # Upload do arquivo\n",
    "\n",
    "py.click(x=341, y=317) # Arquivo selecionado\n",
    "\n",
    "py.click(x=713, y=554) # Fazer Ulpload do arquivo selecionado"
   ]
  },
  {
   "cell_type": "code",
   "execution_count": 58,
   "metadata": {},
   "outputs": [],
   "source": [
    "sleep(10)\n",
    "\n",
    "py.click(x=78, y=225)\n",
    "\n",
    "py.click(x=196, y=291)\n",
    "\n",
    "py.click(x=401, y=405)\n",
    "\n",
    "py.click(x=713, y=554)"
   ]
  },
  {
   "cell_type": "code",
   "execution_count": 59,
   "metadata": {},
   "outputs": [],
   "source": [
    "sleep(10)\n",
    "\n",
    "py.click(x=78, y=225)\n",
    "\n",
    "py.click(x=196, y=291)\n",
    "\n",
    "py.click(x=332, y=446)\n",
    "\n",
    "py.click(x=713, y=554)"
   ]
  },
  {
   "cell_type": "code",
   "execution_count": 60,
   "metadata": {},
   "outputs": [],
   "source": [
    "#sleep(10)\n",
    "#py.position()"
   ]
  }
 ],
 "metadata": {
  "kernelspec": {
   "display_name": "Python 3 (ipykernel)",
   "language": "python",
   "name": "python3"
  },
  "language_info": {
   "codemirror_mode": {
    "name": "ipython",
    "version": 3
   },
   "file_extension": ".py",
   "mimetype": "text/x-python",
   "name": "python",
   "nbconvert_exporter": "python",
   "pygments_lexer": "ipython3",
   "version": "3.9.13"
  },
  "orig_nbformat": 4
 },
 "nbformat": 4,
 "nbformat_minor": 2
}
