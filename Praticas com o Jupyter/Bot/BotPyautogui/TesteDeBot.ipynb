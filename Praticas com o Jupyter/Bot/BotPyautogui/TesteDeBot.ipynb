{
 "cells": [
  {
   "cell_type": "code",
   "execution_count": 2,
   "metadata": {},
   "outputs": [],
   "source": [
    "from time import sleep\n",
    "import pyautogui as py"
   ]
  },
  {
   "cell_type": "code",
   "execution_count": 17,
   "metadata": {},
   "outputs": [],
   "source": [
    "py.PAUSE = 4\n",
    "\n",
    "py.press('win')\n",
    "\n",
    "py.write('firefox')\n",
    "\n",
    "py.press('Enter')\n",
    "\n",
    "py.write('uninove')\n",
    "\n",
    "py.press('Enter')\n",
    "\n",
    "py.click(x=1749, y=217)\n",
    "\n",
    "py.click(x=853, y=489)\n",
    "\n",
    "py.write('1421201253')\n",
    "\n",
    "py.click(x=698, y=651)\n",
    "\n",
    "py.click(x=974, y=564)\n",
    "\n",
    "py.write('54544761Chpj@')\n",
    "\n",
    "py.click(x=928, y=774)"
   ]
  },
  {
   "cell_type": "code",
   "execution_count": null,
   "metadata": {},
   "outputs": [],
   "source": [
    "#sleep(3)\n",
    "#py.position()"
   ]
  }
 ],
 "metadata": {
  "kernelspec": {
   "display_name": "Python 3",
   "language": "python",
   "name": "python3"
  },
  "language_info": {
   "codemirror_mode": {
    "name": "ipython",
    "version": 3
   },
   "file_extension": ".py",
   "mimetype": "text/x-python",
   "name": "python",
   "nbconvert_exporter": "python",
   "pygments_lexer": "ipython3",
   "version": "3.11.2"
  },
  "orig_nbformat": 4
 },
 "nbformat": 4,
 "nbformat_minor": 2
}
