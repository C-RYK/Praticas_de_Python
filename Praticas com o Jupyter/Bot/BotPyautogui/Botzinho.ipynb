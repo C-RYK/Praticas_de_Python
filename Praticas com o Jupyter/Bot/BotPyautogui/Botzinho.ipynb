{
 "cells": [
  {
   "cell_type": "code",
   "execution_count": 2,
   "metadata": {},
   "outputs": [],
   "source": [
    "import pyautogui as py\n",
    "from time import sleep"
   ]
  },
  {
   "cell_type": "code",
   "execution_count": 30,
   "metadata": {},
   "outputs": [],
   "source": [
    "py.PAUSE = 3\n",
    "\n",
    "py.press('win')\n",
    "\n",
    "py.write('firefox')\n",
    "\n",
    "py.press('Enter')\n",
    "\n",
    "py.write('Gmail')"
   ]
  },
  {
   "cell_type": "code",
   "execution_count": null,
   "metadata": {},
   "outputs": [],
   "source": []
  }
 ],
 "metadata": {
  "kernelspec": {
   "display_name": "Python 3",
   "language": "python",
   "name": "python3"
  },
  "language_info": {
   "codemirror_mode": {
    "name": "ipython",
    "version": 3
   },
   "file_extension": ".py",
   "mimetype": "text/x-python",
   "name": "python",
   "nbconvert_exporter": "python",
   "pygments_lexer": "ipython3",
   "version": "3.11.2"
  },
  "orig_nbformat": 4,
  "vscode": {
   "interpreter": {
    "hash": "60046ffbd83e2c3226aa688c07a90e0b2db2ccbc92f599df08db67c0404662c7"
   }
  }
 },
 "nbformat": 4,
 "nbformat_minor": 2
}
