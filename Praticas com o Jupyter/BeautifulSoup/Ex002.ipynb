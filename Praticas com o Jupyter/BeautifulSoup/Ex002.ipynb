{
 "cells": [
  {
   "cell_type": "code",
   "execution_count": null,
   "metadata": {},
   "outputs": [],
   "source": [
    "import pandas as pd\n",
    "import requests"
   ]
  },
  {
   "cell_type": "code",
   "execution_count": 36,
   "metadata": {},
   "outputs": [
    {
     "name": "stdout",
     "output_type": "stream",
     "text": [
      "{\"USDBRL\":{\"code\":\"USD\",\"codein\":\"BRL\",\"name\":\"Dólar Americano/Real Brasileiro\",\"high\":\"5.0494\",\"low\":\"5.0493\",\"varBid\":\"0.0008\",\"pctChange\":\"0.01\",\"bid\":\"5.0486\",\"ask\":\"5.0501\",\"timestamp\":\"1682024400\",\"create_date\":\"2023-04-20 18:00:00\"},\"EURBRL\":{\"code\":\"EUR\",\"codein\":\"BRL\",\"name\":\"Euro/Real Brasileiro\",\"high\":\"5.5414\",\"low\":\"5.5333\",\"varBid\":\"-0.003\",\"pctChange\":\"-0.05\",\"bid\":\"5.5328\",\"ask\":\"5.5349\",\"timestamp\":\"1682053921\",\"create_date\":\"2023-04-21 02:12:01\"},\"BTCBRL\":{\"code\":\"BTC\",\"codein\":\"BRL\",\"name\":\"Bitcoin/Real Brasileiro\",\"high\":\"149000\",\"low\":\"142580\",\"varBid\":\"-4214\",\"pctChange\":\"-2.85\",\"bid\":\"143777\",\"ask\":\"143812\",\"timestamp\":\"1682053859\",\"create_date\":\"2023-04-21 02:10:59\"}}\n"
     ]
    }
   ],
   "source": [
    "link = requests.get('https://economia.awesomeapi.com.br/last/USD-BRL,EUR-BRL,BTC-BRL')\n",
    "\n",
    "print(link.text)"
   ]
  }
 ],
 "metadata": {
  "kernelspec": {
   "display_name": "Python 3 (ipykernel)",
   "language": "python",
   "name": "python3"
  },
  "language_info": {
   "codemirror_mode": {
    "name": "ipython",
    "version": 3
   },
   "file_extension": ".py",
   "mimetype": "text/x-python",
   "name": "python",
   "nbconvert_exporter": "python",
   "pygments_lexer": "ipython3",
   "version": "3.9.13"
  },
  "orig_nbformat": 4
 },
 "nbformat": 4,
 "nbformat_minor": 2
}
